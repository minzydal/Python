{
 "cells": [
  {
   "cell_type": "code",
   "execution_count": 4,
   "metadata": {},
   "outputs": [
    {
     "name": "stdout",
     "output_type": "stream",
     "text": [
      "279\n"
     ]
    }
   ],
   "source": [
    "# Q1 ) 1000 ~ 9999 까지(1000과 9999도 계산에 포함)의 네 자리 숫자 가운데에 '10'을 포함하는 숫자의 갯수는?\n",
    "count = 0\n",
    "for num in range(1000,10000): #1000부터 9999까지 탐색\n",
    "    if '10' in str(num): # num에 '10'이 있다면\n",
    "        count += 1 #count 증가\n",
    "print(count) #최종 count 출력"
   ]
  },
  {
   "cell_type": "code",
   "execution_count": 6,
   "metadata": {
    "scrolled": true
   },
   "outputs": [
    {
     "name": "stdout",
     "output_type": "stream",
     "text": [
      "108\n"
     ]
    }
   ],
   "source": [
    "# Q2 ) 10 ~ 99999 까지(10과 99999도 계산에 포함)의 숫자 가운데에 20의 배수이며 '080'을 포함하는 숫자의 갯수는?\n",
    "count = 0\n",
    "for num in range(10, 100000): #10부터 99999까지 탐색\n",
    "    if '080' in str(num) and num % 20 == 0: #num에 '080'이 있고 20의 배수이면\n",
    "            count += 1 #count 증가\n",
    "print(count) #최종 count 출력"
   ]
  },
  {
   "cell_type": "code",
   "execution_count": 5,
   "metadata": {},
   "outputs": [
    {
     "name": "stdout",
     "output_type": "stream",
     "text": [
      "0.16666666666666666\n"
     ]
    }
   ],
   "source": [
    "# Q3 ) d = {'Hospital':0, 'PostOffice':1, 'Phamacy':2, 'School':3, 'Home':4, 'Convenience':5, 'DepartmentStore':6, 'BeautySalon':7, 'Lotteria':8}는 사전 자료형이며, \n",
    "# 각 element의 key는 건물 이름을 의미하고 value는 아래 'map'에서 건물의 위치를 의미한다. \n",
    "# '철수'는 매일 집에서 09:00에 나와서 정확히 30분마다 인접한 건물로 이동한다고 했을 때, 18:00에 'Hospital'에 있을 확률 p(0.0 <= p <= 1.0)는 얼마인가?\n",
    "# '철수'는 30분마다 꼭 인접한 건물로 이동해야하며(같은 건물에 30분을 초과하여 체류할 수 없음) 대각선에 위치한 건물로는 이동할 수 없다고 가정한다.\n",
    "\n",
    "#17번째에는 반드시 1,3,5,7에 존재한다.\n",
    "#17번째 1번에 있다면 0에 도착할 확률은 1/3\n",
    "#17번째 3번에 있다면 0에 도착할 확률은 1/3\n",
    "#17번째 5번에 있다면 0에 도착할 확률은 0\n",
    "#17번째 7번에 있다면 0에 도착할 확률은 0\n",
    "\n",
    "path = [[1,3],[0,2,4],[1,5],[0,4,6],[1,3,5,7],[2,4,8],[3,7],[6,4,8],[5,7]]\n",
    "c, zero = 0,0\n",
    "\n",
    "for i in range(1,8,2):\n",
    "    c += len(path[i])\n",
    "    for l in path[i]:\n",
    "        if l == 0:\n",
    "            zero += 1           \n",
    "print(zero/c)\n"
   ]
  },
  {
   "cell_type": "code",
   "execution_count": null,
   "metadata": {},
   "outputs": [],
   "source": []
  }
 ],
 "metadata": {
  "kernelspec": {
   "display_name": "Python 3",
   "language": "python",
   "name": "python3"
  },
  "language_info": {
   "codemirror_mode": {
    "name": "ipython",
    "version": 3
   },
   "file_extension": ".py",
   "mimetype": "text/x-python",
   "name": "python",
   "nbconvert_exporter": "python",
   "pygments_lexer": "ipython3",
   "version": "3.8.5"
  }
 },
 "nbformat": 4,
 "nbformat_minor": 4
}
